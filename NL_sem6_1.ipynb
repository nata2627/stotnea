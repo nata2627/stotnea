{
  "nbformat": 4,
  "nbformat_minor": 0,
  "metadata": {
    "colab": {
      "provenance": [],
      "gpuType": "T4"
    },
    "kernelspec": {
      "name": "python3",
      "display_name": "Python 3"
    },
    "language_info": {
      "name": "python"
    },
    "accelerator": "GPU",
    "widgets": {
      "application/vnd.jupyter.widget-state+json": {
        "dd25ec98691d44c1814e4c31ef592b50": {
          "model_module": "@jupyter-widgets/controls",
          "model_name": "HBoxModel",
          "model_module_version": "1.5.0",
          "state": {
            "_dom_classes": [],
            "_model_module": "@jupyter-widgets/controls",
            "_model_module_version": "1.5.0",
            "_model_name": "HBoxModel",
            "_view_count": null,
            "_view_module": "@jupyter-widgets/controls",
            "_view_module_version": "1.5.0",
            "_view_name": "HBoxView",
            "box_style": "",
            "children": [
              "IPY_MODEL_4a96d02268c94470bcf9675a6e518d46",
              "IPY_MODEL_845df8a7a3274001a2d24b5fa7ba81d9",
              "IPY_MODEL_c51cd457a06748cb98ef885d973165a5"
            ],
            "layout": "IPY_MODEL_fcab3c901ba0452daf5a8ff66330c68a"
          }
        },
        "4a96d02268c94470bcf9675a6e518d46": {
          "model_module": "@jupyter-widgets/controls",
          "model_name": "HTMLModel",
          "model_module_version": "1.5.0",
          "state": {
            "_dom_classes": [],
            "_model_module": "@jupyter-widgets/controls",
            "_model_module_version": "1.5.0",
            "_model_name": "HTMLModel",
            "_view_count": null,
            "_view_module": "@jupyter-widgets/controls",
            "_view_module_version": "1.5.0",
            "_view_name": "HTMLView",
            "description": "",
            "description_tooltip": null,
            "layout": "IPY_MODEL_428e15584c854180a31431be5f9adbb8",
            "placeholder": "​",
            "style": "IPY_MODEL_f2874aa739464be7b1c5754f0ec992b4",
            "value": "Map: 100%"
          }
        },
        "845df8a7a3274001a2d24b5fa7ba81d9": {
          "model_module": "@jupyter-widgets/controls",
          "model_name": "FloatProgressModel",
          "model_module_version": "1.5.0",
          "state": {
            "_dom_classes": [],
            "_model_module": "@jupyter-widgets/controls",
            "_model_module_version": "1.5.0",
            "_model_name": "FloatProgressModel",
            "_view_count": null,
            "_view_module": "@jupyter-widgets/controls",
            "_view_module_version": "1.5.0",
            "_view_name": "ProgressView",
            "bar_style": "success",
            "description": "",
            "description_tooltip": null,
            "layout": "IPY_MODEL_0e0204cc3d974ccaaa1706eea6203e07",
            "max": 3270,
            "min": 0,
            "orientation": "horizontal",
            "style": "IPY_MODEL_7f4a43a4c6d745a49d0fc4b8b04cf8c5",
            "value": 3270
          }
        },
        "c51cd457a06748cb98ef885d973165a5": {
          "model_module": "@jupyter-widgets/controls",
          "model_name": "HTMLModel",
          "model_module_version": "1.5.0",
          "state": {
            "_dom_classes": [],
            "_model_module": "@jupyter-widgets/controls",
            "_model_module_version": "1.5.0",
            "_model_name": "HTMLModel",
            "_view_count": null,
            "_view_module": "@jupyter-widgets/controls",
            "_view_module_version": "1.5.0",
            "_view_name": "HTMLView",
            "description": "",
            "description_tooltip": null,
            "layout": "IPY_MODEL_5c10bfacffa447ba83241178c0b5ba26",
            "placeholder": "​",
            "style": "IPY_MODEL_6bb162e5d96b488d9fda78e1bbb58d35",
            "value": " 3270/3270 [00:02&lt;00:00, 1146.96 examples/s]"
          }
        },
        "fcab3c901ba0452daf5a8ff66330c68a": {
          "model_module": "@jupyter-widgets/base",
          "model_name": "LayoutModel",
          "model_module_version": "1.2.0",
          "state": {
            "_model_module": "@jupyter-widgets/base",
            "_model_module_version": "1.2.0",
            "_model_name": "LayoutModel",
            "_view_count": null,
            "_view_module": "@jupyter-widgets/base",
            "_view_module_version": "1.2.0",
            "_view_name": "LayoutView",
            "align_content": null,
            "align_items": null,
            "align_self": null,
            "border": null,
            "bottom": null,
            "display": null,
            "flex": null,
            "flex_flow": null,
            "grid_area": null,
            "grid_auto_columns": null,
            "grid_auto_flow": null,
            "grid_auto_rows": null,
            "grid_column": null,
            "grid_gap": null,
            "grid_row": null,
            "grid_template_areas": null,
            "grid_template_columns": null,
            "grid_template_rows": null,
            "height": null,
            "justify_content": null,
            "justify_items": null,
            "left": null,
            "margin": null,
            "max_height": null,
            "max_width": null,
            "min_height": null,
            "min_width": null,
            "object_fit": null,
            "object_position": null,
            "order": null,
            "overflow": null,
            "overflow_x": null,
            "overflow_y": null,
            "padding": null,
            "right": null,
            "top": null,
            "visibility": null,
            "width": null
          }
        },
        "428e15584c854180a31431be5f9adbb8": {
          "model_module": "@jupyter-widgets/base",
          "model_name": "LayoutModel",
          "model_module_version": "1.2.0",
          "state": {
            "_model_module": "@jupyter-widgets/base",
            "_model_module_version": "1.2.0",
            "_model_name": "LayoutModel",
            "_view_count": null,
            "_view_module": "@jupyter-widgets/base",
            "_view_module_version": "1.2.0",
            "_view_name": "LayoutView",
            "align_content": null,
            "align_items": null,
            "align_self": null,
            "border": null,
            "bottom": null,
            "display": null,
            "flex": null,
            "flex_flow": null,
            "grid_area": null,
            "grid_auto_columns": null,
            "grid_auto_flow": null,
            "grid_auto_rows": null,
            "grid_column": null,
            "grid_gap": null,
            "grid_row": null,
            "grid_template_areas": null,
            "grid_template_columns": null,
            "grid_template_rows": null,
            "height": null,
            "justify_content": null,
            "justify_items": null,
            "left": null,
            "margin": null,
            "max_height": null,
            "max_width": null,
            "min_height": null,
            "min_width": null,
            "object_fit": null,
            "object_position": null,
            "order": null,
            "overflow": null,
            "overflow_x": null,
            "overflow_y": null,
            "padding": null,
            "right": null,
            "top": null,
            "visibility": null,
            "width": null
          }
        },
        "f2874aa739464be7b1c5754f0ec992b4": {
          "model_module": "@jupyter-widgets/controls",
          "model_name": "DescriptionStyleModel",
          "model_module_version": "1.5.0",
          "state": {
            "_model_module": "@jupyter-widgets/controls",
            "_model_module_version": "1.5.0",
            "_model_name": "DescriptionStyleModel",
            "_view_count": null,
            "_view_module": "@jupyter-widgets/base",
            "_view_module_version": "1.2.0",
            "_view_name": "StyleView",
            "description_width": ""
          }
        },
        "0e0204cc3d974ccaaa1706eea6203e07": {
          "model_module": "@jupyter-widgets/base",
          "model_name": "LayoutModel",
          "model_module_version": "1.2.0",
          "state": {
            "_model_module": "@jupyter-widgets/base",
            "_model_module_version": "1.2.0",
            "_model_name": "LayoutModel",
            "_view_count": null,
            "_view_module": "@jupyter-widgets/base",
            "_view_module_version": "1.2.0",
            "_view_name": "LayoutView",
            "align_content": null,
            "align_items": null,
            "align_self": null,
            "border": null,
            "bottom": null,
            "display": null,
            "flex": null,
            "flex_flow": null,
            "grid_area": null,
            "grid_auto_columns": null,
            "grid_auto_flow": null,
            "grid_auto_rows": null,
            "grid_column": null,
            "grid_gap": null,
            "grid_row": null,
            "grid_template_areas": null,
            "grid_template_columns": null,
            "grid_template_rows": null,
            "height": null,
            "justify_content": null,
            "justify_items": null,
            "left": null,
            "margin": null,
            "max_height": null,
            "max_width": null,
            "min_height": null,
            "min_width": null,
            "object_fit": null,
            "object_position": null,
            "order": null,
            "overflow": null,
            "overflow_x": null,
            "overflow_y": null,
            "padding": null,
            "right": null,
            "top": null,
            "visibility": null,
            "width": null
          }
        },
        "7f4a43a4c6d745a49d0fc4b8b04cf8c5": {
          "model_module": "@jupyter-widgets/controls",
          "model_name": "ProgressStyleModel",
          "model_module_version": "1.5.0",
          "state": {
            "_model_module": "@jupyter-widgets/controls",
            "_model_module_version": "1.5.0",
            "_model_name": "ProgressStyleModel",
            "_view_count": null,
            "_view_module": "@jupyter-widgets/base",
            "_view_module_version": "1.2.0",
            "_view_name": "StyleView",
            "bar_color": null,
            "description_width": ""
          }
        },
        "5c10bfacffa447ba83241178c0b5ba26": {
          "model_module": "@jupyter-widgets/base",
          "model_name": "LayoutModel",
          "model_module_version": "1.2.0",
          "state": {
            "_model_module": "@jupyter-widgets/base",
            "_model_module_version": "1.2.0",
            "_model_name": "LayoutModel",
            "_view_count": null,
            "_view_module": "@jupyter-widgets/base",
            "_view_module_version": "1.2.0",
            "_view_name": "LayoutView",
            "align_content": null,
            "align_items": null,
            "align_self": null,
            "border": null,
            "bottom": null,
            "display": null,
            "flex": null,
            "flex_flow": null,
            "grid_area": null,
            "grid_auto_columns": null,
            "grid_auto_flow": null,
            "grid_auto_rows": null,
            "grid_column": null,
            "grid_gap": null,
            "grid_row": null,
            "grid_template_areas": null,
            "grid_template_columns": null,
            "grid_template_rows": null,
            "height": null,
            "justify_content": null,
            "justify_items": null,
            "left": null,
            "margin": null,
            "max_height": null,
            "max_width": null,
            "min_height": null,
            "min_width": null,
            "object_fit": null,
            "object_position": null,
            "order": null,
            "overflow": null,
            "overflow_x": null,
            "overflow_y": null,
            "padding": null,
            "right": null,
            "top": null,
            "visibility": null,
            "width": null
          }
        },
        "6bb162e5d96b488d9fda78e1bbb58d35": {
          "model_module": "@jupyter-widgets/controls",
          "model_name": "DescriptionStyleModel",
          "model_module_version": "1.5.0",
          "state": {
            "_model_module": "@jupyter-widgets/controls",
            "_model_module_version": "1.5.0",
            "_model_name": "DescriptionStyleModel",
            "_view_count": null,
            "_view_module": "@jupyter-widgets/base",
            "_view_module_version": "1.2.0",
            "_view_name": "StyleView",
            "description_width": ""
          }
        }
      }
    }
  },
  "cells": [
    {
      "cell_type": "markdown",
      "source": [
        "## Задание 1: Fine-tuning модели с использованием LoRA"
      ],
      "metadata": {
        "id": "C1CUrVeeSC82"
      }
    },
    {
      "cell_type": "code",
      "source": [
        "# !pip install datasets"
      ],
      "metadata": {
        "id": "9ErGuHSdSkp4"
      },
      "execution_count": 3,
      "outputs": []
    },
    {
      "cell_type": "code",
      "source": [
        "\"\"\"\n",
        "Задание 1: Fine-tuning модели с использованием LoRA\n",
        "\n",
        "Цель: провести дообучение LLM с применением метода Low-Rank Adaptation (LoRA)\n",
        "для решения задачи классификации текстов.\n",
        "\n",
        "Пункты выполнения:\n",
        "1. Подготовка данных:\n",
        "   - Выбран датасет BoolQ (вопросы с да/нет ответами)\n",
        "   - Данные предобработаны для задачи бинарной классификации\n",
        "\n",
        "2. Выбор LLM:\n",
        "   - Использована предобученная модель BERT (bert-base-uncased)\n",
        "   - Модель адаптирована для задачи классификации\n",
        "\n",
        "3. Настройка LoRA:\n",
        "   - Использован метод LoRA для уменьшения числа обучаемых параметров\n",
        "   - Настроены гиперпараметры LoRA (ранг, альфа, целевые слои)\n",
        "\n",
        "4. Процесс обучения:\n",
        "   - Реализовано с использованием Hugging Face Transformers\n",
        "   - Настроены параметры обучения (learning rate, batch size, epochs)\n",
        "\n",
        "5. Оценка результатов:\n",
        "   - Измерены метрики качества (accuracy, F1-score)\n",
        "   - Отслеживается время обучения и потребление памяти\n",
        "\n",
        "6. Сравнение с полной донастройкой:\n",
        "   - Реализованы оба подхода (LoRA и полный fine-tuning)\n",
        "   - Сравниваются метрики качества, время и память\n",
        "\"\"\""
      ],
      "metadata": {
        "id": "slMpELP2VLN6"
      },
      "execution_count": null,
      "outputs": []
    },
    {
      "cell_type": "code",
      "source": [
        "import torch\n",
        "from datasets import load_dataset\n",
        "from transformers import (\n",
        "    AutoModelForSequenceClassification,\n",
        "    AutoTokenizer,\n",
        "    TrainingArguments,\n",
        "    Trainer,\n",
        "    DataCollatorWithPadding\n",
        ")\n",
        "from peft import get_peft_config, get_peft_model, LoraConfig, TaskType\n",
        "import numpy as np\n",
        "from sklearn.metrics import accuracy_score, f1_score\n",
        "import time\n",
        "import psutil\n",
        "import os\n",
        "import warnings\n",
        "\n",
        "warnings.filterwarnings('ignore', category=FutureWarning)\n",
        "\n",
        "def prepare_dataset():\n",
        "    dataset = load_dataset(\"boolq\")\n",
        "\n",
        "    def preprocess_function(examples):\n",
        "        texts = [q + \" [SEP] \" + p for q, p in zip(examples[\"question\"], examples[\"passage\"])]\n",
        "        tokenized = tokenizer(\n",
        "            texts,\n",
        "            truncation=True,\n",
        "            max_length=512,\n",
        "            padding=True,\n",
        "            return_tensors=None  # Изменено для работы с батчами\n",
        "        )\n",
        "\n",
        "        # Преобразуем boolean метки в числовые (0 или 1)\n",
        "        labels = [1 if ans else 0 for ans in examples[\"answer\"]]\n",
        "        tokenized[\"labels\"] = labels\n",
        "\n",
        "        return tokenized\n",
        "\n",
        "    tokenized_dataset = dataset.map(\n",
        "        preprocess_function,\n",
        "        batched=True,\n",
        "        remove_columns=dataset[\"train\"].column_names\n",
        "    )\n",
        "\n",
        "    return tokenized_dataset\n",
        "\n",
        "def compute_metrics(eval_preds):\n",
        "    logits, labels = eval_preds\n",
        "    predictions = np.argmax(logits, axis=-1)\n",
        "\n",
        "    return {\n",
        "        \"accuracy\": accuracy_score(labels, predictions),\n",
        "        \"f1\": f1_score(labels, predictions, average='binary')\n",
        "    }\n",
        "\n",
        "def get_memory_usage():\n",
        "    process = psutil.Process(os.getpid())\n",
        "    return process.memory_info().rss / 1024 / 1024\n",
        "\n",
        "class CustomTrainer(Trainer):\n",
        "    def compute_loss(self, model, inputs, return_outputs=False, **kwargs):\n",
        "        labels = inputs.get(\"labels\")\n",
        "        outputs = model(**{k: v for k, v in inputs.items() if k != \"labels\"})\n",
        "        logits = outputs.logits\n",
        "\n",
        "        loss_fct = torch.nn.CrossEntropyLoss()\n",
        "        loss = loss_fct(logits.view(-1, self.model.config.num_labels),\n",
        "                       labels.view(-1))\n",
        "\n",
        "        return (loss, outputs) if return_outputs else loss\n",
        "\n",
        "def train_model(use_lora=True):\n",
        "    model = AutoModelForSequenceClassification.from_pretrained(\n",
        "        \"bert-base-uncased\",\n",
        "        num_labels=2,\n",
        "        ignore_mismatched_sizes=True\n",
        "    )\n",
        "\n",
        "    if use_lora:\n",
        "        peft_config = LoraConfig(\n",
        "            task_type=TaskType.SEQ_CLS,\n",
        "            r=8,\n",
        "            lora_alpha=32,\n",
        "            lora_dropout=0.1,\n",
        "            bias=\"none\",\n",
        "            target_modules=[\"query\", \"value\"]\n",
        "        )\n",
        "\n",
        "        model = get_peft_model(model, peft_config)\n",
        "        model.print_trainable_parameters()\n",
        "\n",
        "    training_args = TrainingArguments(\n",
        "        output_dir=\"./results\",\n",
        "        learning_rate=2e-5,\n",
        "        per_device_train_batch_size=8,\n",
        "        per_device_eval_batch_size=8,\n",
        "        num_train_epochs=3,\n",
        "        weight_decay=0.01,\n",
        "        evaluation_strategy=\"epoch\",\n",
        "        save_strategy=\"epoch\",\n",
        "        load_best_model_at_end=True,\n",
        "        report_to=\"none\",\n",
        "        run_name=None,\n",
        "        remove_unused_columns=False  # Добавлено для предотвращения удаления столбцов\n",
        "    )\n",
        "\n",
        "    trainer = CustomTrainer(\n",
        "        model=model,\n",
        "        args=training_args,\n",
        "        train_dataset=tokenized_dataset[\"train\"],\n",
        "        eval_dataset=tokenized_dataset[\"validation\"],\n",
        "        compute_metrics=compute_metrics,\n",
        "        data_collator=DataCollatorWithPadding(tokenizer)\n",
        "    )\n",
        "\n",
        "    start_time = time.time()\n",
        "    initial_memory = get_memory_usage()\n",
        "\n",
        "    trainer.train()\n",
        "\n",
        "    training_time = time.time() - start_time\n",
        "    memory_used = get_memory_usage() - initial_memory\n",
        "\n",
        "    eval_results = trainer.evaluate()\n",
        "\n",
        "    return {\n",
        "        \"eval_results\": eval_results,\n",
        "        \"training_time\": training_time,\n",
        "        \"memory_used\": memory_used\n",
        "    }\n",
        "\n",
        "if __name__ == \"__main__\":\n",
        "    print(\"Initializing tokenizer...\")\n",
        "    tokenizer = AutoTokenizer.from_pretrained(\"bert-base-uncased\")\n",
        "\n",
        "    print(\"Preparing dataset...\")\n",
        "    tokenized_dataset = prepare_dataset()\n",
        "\n",
        "    print(\"\\nTraining with LoRA...\")\n",
        "    lora_results = train_model(use_lora=True)\n",
        "\n",
        "    print(\"\\nTraining with full fine-tuning...\")\n",
        "    full_results = train_model(use_lora=False)\n",
        "\n",
        "    print(\"\\nResults comparison:\")\n",
        "    print(\"LoRA results:\", lora_results)\n",
        "    print(\"Full fine-tuning results:\", full_results)"
      ],
      "metadata": {
        "colab": {
          "base_uri": "https://localhost:8080/",
          "height": 674,
          "referenced_widgets": [
            "dd25ec98691d44c1814e4c31ef592b50",
            "4a96d02268c94470bcf9675a6e518d46",
            "845df8a7a3274001a2d24b5fa7ba81d9",
            "c51cd457a06748cb98ef885d973165a5",
            "fcab3c901ba0452daf5a8ff66330c68a",
            "428e15584c854180a31431be5f9adbb8",
            "f2874aa739464be7b1c5754f0ec992b4",
            "0e0204cc3d974ccaaa1706eea6203e07",
            "7f4a43a4c6d745a49d0fc4b8b04cf8c5",
            "5c10bfacffa447ba83241178c0b5ba26",
            "6bb162e5d96b488d9fda78e1bbb58d35"
          ]
        },
        "id": "xOzEmczYSYLy",
        "outputId": "28932a8f-e1ad-4e24-ad0d-04293d7634b1"
      },
      "execution_count": 27,
      "outputs": [
        {
          "output_type": "stream",
          "name": "stdout",
          "text": [
            "Initializing tokenizer...\n",
            "Preparing dataset...\n"
          ]
        },
        {
          "output_type": "display_data",
          "data": {
            "text/plain": [
              "Map:   0%|          | 0/3270 [00:00<?, ? examples/s]"
            ],
            "application/vnd.jupyter.widget-view+json": {
              "version_major": 2,
              "version_minor": 0,
              "model_id": "dd25ec98691d44c1814e4c31ef592b50"
            }
          },
          "metadata": {}
        },
        {
          "output_type": "stream",
          "name": "stdout",
          "text": [
            "\n",
            "Training with LoRA...\n"
          ]
        },
        {
          "output_type": "stream",
          "name": "stderr",
          "text": [
            "Some weights of BertForSequenceClassification were not initialized from the model checkpoint at bert-base-uncased and are newly initialized: ['classifier.bias', 'classifier.weight']\n",
            "You should probably TRAIN this model on a down-stream task to be able to use it for predictions and inference.\n"
          ]
        },
        {
          "output_type": "stream",
          "name": "stdout",
          "text": [
            "trainable params: 296,450 || all params: 109,780,228 || trainable%: 0.2700\n"
          ]
        },
        {
          "output_type": "display_data",
          "data": {
            "text/plain": [
              "<IPython.core.display.HTML object>"
            ],
            "text/html": [
              "\n",
              "    <div>\n",
              "      \n",
              "      <progress value='3537' max='3537' style='width:300px; height:20px; vertical-align: middle;'></progress>\n",
              "      [3537/3537 39:05, Epoch 3/3]\n",
              "    </div>\n",
              "    <table border=\"1\" class=\"dataframe\">\n",
              "  <thead>\n",
              " <tr style=\"text-align: left;\">\n",
              "      <th>Epoch</th>\n",
              "      <th>Training Loss</th>\n",
              "      <th>Validation Loss</th>\n",
              "      <th>Accuracy</th>\n",
              "      <th>F1</th>\n",
              "    </tr>\n",
              "  </thead>\n",
              "  <tbody>\n",
              "    <tr>\n",
              "      <td>1</td>\n",
              "      <td>0.664900</td>\n",
              "      <td>0.662805</td>\n",
              "      <td>0.621713</td>\n",
              "      <td>0.766736</td>\n",
              "    </tr>\n",
              "    <tr>\n",
              "      <td>2</td>\n",
              "      <td>0.653800</td>\n",
              "      <td>0.656188</td>\n",
              "      <td>0.625076</td>\n",
              "      <td>0.766298</td>\n",
              "    </tr>\n",
              "    <tr>\n",
              "      <td>3</td>\n",
              "      <td>0.653700</td>\n",
              "      <td>0.655186</td>\n",
              "      <td>0.623242</td>\n",
              "      <td>0.765779</td>\n",
              "    </tr>\n",
              "  </tbody>\n",
              "</table><p>"
            ]
          },
          "metadata": {}
        },
        {
          "output_type": "display_data",
          "data": {
            "text/plain": [
              "<IPython.core.display.HTML object>"
            ],
            "text/html": [
              "\n",
              "    <div>\n",
              "      \n",
              "      <progress value='409' max='409' style='width:300px; height:20px; vertical-align: middle;'></progress>\n",
              "      [409/409 01:39]\n",
              "    </div>\n",
              "    "
            ]
          },
          "metadata": {}
        },
        {
          "output_type": "stream",
          "name": "stdout",
          "text": [
            "\n",
            "Training with full fine-tuning...\n"
          ]
        },
        {
          "output_type": "stream",
          "name": "stderr",
          "text": [
            "Some weights of BertForSequenceClassification were not initialized from the model checkpoint at bert-base-uncased and are newly initialized: ['classifier.bias', 'classifier.weight']\n",
            "You should probably TRAIN this model on a down-stream task to be able to use it for predictions and inference.\n"
          ]
        },
        {
          "output_type": "display_data",
          "data": {
            "text/plain": [
              "<IPython.core.display.HTML object>"
            ],
            "text/html": [
              "\n",
              "    <div>\n",
              "      \n",
              "      <progress value='3537' max='3537' style='width:300px; height:20px; vertical-align: middle;'></progress>\n",
              "      [3537/3537 51:12, Epoch 3/3]\n",
              "    </div>\n",
              "    <table border=\"1\" class=\"dataframe\">\n",
              "  <thead>\n",
              " <tr style=\"text-align: left;\">\n",
              "      <th>Epoch</th>\n",
              "      <th>Training Loss</th>\n",
              "      <th>Validation Loss</th>\n",
              "      <th>Accuracy</th>\n",
              "      <th>F1</th>\n",
              "    </tr>\n",
              "  </thead>\n",
              "  <tbody>\n",
              "    <tr>\n",
              "      <td>1</td>\n",
              "      <td>0.631200</td>\n",
              "      <td>0.615742</td>\n",
              "      <td>0.676147</td>\n",
              "      <td>0.760461</td>\n",
              "    </tr>\n",
              "    <tr>\n",
              "      <td>2</td>\n",
              "      <td>0.533800</td>\n",
              "      <td>0.574272</td>\n",
              "      <td>0.708869</td>\n",
              "      <td>0.773225</td>\n",
              "    </tr>\n",
              "    <tr>\n",
              "      <td>3</td>\n",
              "      <td>0.398900</td>\n",
              "      <td>0.676665</td>\n",
              "      <td>0.711621</td>\n",
              "      <td>0.773589</td>\n",
              "    </tr>\n",
              "  </tbody>\n",
              "</table><p>"
            ]
          },
          "metadata": {}
        },
        {
          "output_type": "display_data",
          "data": {
            "text/plain": [
              "<IPython.core.display.HTML object>"
            ],
            "text/html": [
              "\n",
              "    <div>\n",
              "      \n",
              "      <progress value='409' max='409' style='width:300px; height:20px; vertical-align: middle;'></progress>\n",
              "      [409/409 01:36]\n",
              "    </div>\n",
              "    "
            ]
          },
          "metadata": {}
        },
        {
          "output_type": "stream",
          "name": "stdout",
          "text": [
            "\n",
            "Results comparison:\n",
            "LoRA results: {'eval_results': {'eval_loss': 0.6551863551139832, 'eval_accuracy': 0.6232415902140673, 'eval_f1': 0.7657794676806083, 'eval_runtime': 99.6828, 'eval_samples_per_second': 32.804, 'eval_steps_per_second': 4.103, 'epoch': 3.0}, 'training_time': 2347.093881368637, 'memory_used': 37.72265625}\n",
            "Full fine-tuning results: {'eval_results': {'eval_loss': 0.5742719769477844, 'eval_accuracy': 0.708868501529052, 'eval_f1': 0.7732253454025727, 'eval_runtime': 97.1285, 'eval_samples_per_second': 33.667, 'eval_steps_per_second': 4.211, 'epoch': 3.0}, 'training_time': 3074.156408071518, 'memory_used': 61.21875}\n"
          ]
        }
      ]
    },
    {
      "cell_type": "code",
      "source": [
        "# !pip install evaluate"
      ],
      "metadata": {
        "id": "kL1JgFkDUXOY"
      },
      "execution_count": 23,
      "outputs": []
    },
    {
      "cell_type": "code",
      "source": [],
      "metadata": {
        "id": "Po-A800-UcgU"
      },
      "execution_count": null,
      "outputs": []
    }
  ]
}