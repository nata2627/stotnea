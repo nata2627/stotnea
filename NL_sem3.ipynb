{
  "nbformat": 4,
  "nbformat_minor": 0,
  "metadata": {
    "colab": {
      "provenance": []
    },
    "kernelspec": {
      "name": "python3",
      "display_name": "Python 3"
    },
    "language_info": {
      "name": "python"
    }
  },
  "cells": [
    {
      "cell_type": "code",
      "execution_count": null,
      "metadata": {
        "colab": {
          "base_uri": "https://localhost:8080/"
        },
        "id": "67HmOodZ4MS0",
        "outputId": "f8642469-5883-4689-e648-1b84b5d8c97d"
      },
      "outputs": [
        {
          "output_type": "stream",
          "name": "stdout",
          "text": [
            "Requirement already satisfied: gensim in /usr/local/lib/python3.10/dist-packages (4.3.3)\n",
            "Requirement already satisfied: numpy<2.0,>=1.18.5 in /usr/local/lib/python3.10/dist-packages (from gensim) (1.26.4)\n",
            "Requirement already satisfied: scipy<1.14.0,>=1.7.0 in /usr/local/lib/python3.10/dist-packages (from gensim) (1.13.1)\n",
            "Requirement already satisfied: smart-open>=1.8.1 in /usr/local/lib/python3.10/dist-packages (from gensim) (7.0.5)\n",
            "Requirement already satisfied: wrapt in /usr/local/lib/python3.10/dist-packages (from smart-open>=1.8.1->gensim) (1.16.0)\n"
          ]
        }
      ],
      "source": [
        "!pip install gensim"
      ]
    },
    {
      "cell_type": "code",
      "source": [
        "!pip install navec"
      ],
      "metadata": {
        "colab": {
          "base_uri": "https://localhost:8080/"
        },
        "id": "uXsHprVi4zFO",
        "outputId": "20be2c7b-bf86-4939-ef6a-9cb5c172de4c"
      },
      "execution_count": null,
      "outputs": [
        {
          "output_type": "stream",
          "name": "stdout",
          "text": [
            "Collecting navec\n",
            "  Downloading navec-0.10.0-py3-none-any.whl.metadata (21 kB)\n",
            "Requirement already satisfied: numpy in /usr/local/lib/python3.10/dist-packages (from navec) (1.26.4)\n",
            "Downloading navec-0.10.0-py3-none-any.whl (23 kB)\n",
            "Installing collected packages: navec\n",
            "Successfully installed navec-0.10.0\n"
          ]
        }
      ]
    },
    {
      "cell_type": "code",
      "source": [
        "import gensim.downloader as api\n",
        "from sklearn.metrics.pairwise import cosine_similarity\n",
        "import numpy as np"
      ],
      "metadata": {
        "id": "9t4_ZKrV40_7"
      },
      "execution_count": null,
      "outputs": []
    },
    {
      "cell_type": "code",
      "source": [
        "# Загрузка предобученных эмбеддингов\n",
        "print(\"Загрузка предобученной модели...\")\n",
        "model = api.load(\"word2vec-google-news-300\")"
      ],
      "metadata": {
        "colab": {
          "base_uri": "https://localhost:8080/"
        },
        "id": "k28J8WPn5CHk",
        "outputId": "1ffdd875-a215-4410-8a81-3792a3fe0130"
      },
      "execution_count": null,
      "outputs": [
        {
          "output_type": "stream",
          "name": "stdout",
          "text": [
            "Загрузка предобученной модели...\n",
            "[==================================================] 100.0% 1662.8/1662.8MB downloaded\n"
          ]
        }
      ]
    },
    {
      "cell_type": "code",
      "source": [
        "# Список слов для анализа\n",
        "words = [\"tree\", \"river\", \"book\", \"theater\", \"robot\", \"internet\", \"city\", \"house\", \"music\", \"painting\"]\n",
        "vectors = {}"
      ],
      "metadata": {
        "id": "FCIzhvMk5FVW"
      },
      "execution_count": null,
      "outputs": []
    },
    {
      "cell_type": "code",
      "source": [
        "# Получение векторных представлений\n",
        "print(\"Получение векторов для слов...\")\n",
        "for word in words:\n",
        "    try:\n",
        "        if word in model:\n",
        "            vectors[word] = model[word]\n",
        "            print(f\"Слово '{word}' найдено, вектор извлечен.\")\n",
        "        else:\n",
        "            print(f\"Слово '{word}' отсутствует в модели!\")\n",
        "    except Exception as e:\n",
        "        print(f\"Ошибка для слова '{word}':\", e)"
      ],
      "metadata": {
        "colab": {
          "base_uri": "https://localhost:8080/"
        },
        "id": "5Rq_obB45Xid",
        "outputId": "a0bdc4f3-b1ea-45f1-d6e8-b7fc42bee84c"
      },
      "execution_count": null,
      "outputs": [
        {
          "output_type": "stream",
          "name": "stdout",
          "text": [
            "Получение векторов для слов...\n",
            "Слово 'tree' найдено, вектор извлечен.\n",
            "Слово 'river' найдено, вектор извлечен.\n",
            "Слово 'book' найдено, вектор извлечен.\n",
            "Слово 'theater' найдено, вектор извлечен.\n",
            "Слово 'robot' найдено, вектор извлечен.\n",
            "Слово 'internet' найдено, вектор извлечен.\n",
            "Слово 'city' найдено, вектор извлечен.\n",
            "Слово 'house' найдено, вектор извлечен.\n",
            "Слово 'music' найдено, вектор извлечен.\n",
            "Слово 'painting' найдено, вектор извлечен.\n"
          ]
        }
      ]
    },
    {
      "cell_type": "code",
      "source": [
        "# Функция для вычисления косинусного сходства\n",
        "def cosine_similarity_manual(vec1, vec2):\n",
        "    dot_product = np.dot(vec1, vec2)  # Скалярное произведение\n",
        "    norm_a = np.linalg.norm(vec1)    # Норма первого вектора\n",
        "    norm_b = np.linalg.norm(vec2)    # Норма второго вектора\n",
        "    return dot_product / (norm_a * norm_b)"
      ],
      "metadata": {
        "id": "sw0GqKyn5ZN_"
      },
      "execution_count": null,
      "outputs": []
    },
    {
      "cell_type": "code",
      "source": [
        "# Инициализация матрицы сходств\n",
        "similarity_matrix = np.zeros((len(words), len(words)))\n",
        "\n",
        "# Заполнение матрицы сходств\n",
        "print(\"\\nВычисление косинусного сходства между словами...\")\n",
        "for i, word1 in enumerate(words):\n",
        "    for j, word2 in enumerate(words):\n",
        "        if word1 in vectors and word2 in vectors:\n",
        "            similarity_matrix[i, j] = cosine_similarity_manual(vectors[word1], vectors[word2])\n",
        "        else:\n",
        "            similarity_matrix[i, j] = None  # Если слово отсутствует, ставим None\n",
        "\n",
        "# Вывод матрицы сходств\n",
        "print(\"\\nМатрица косинусного сходства:\")\n",
        "print(\"   \", \"  \".join(f\"{word[:6]:>6}\" for word in words))\n",
        "for i, word1 in enumerate(words):\n",
        "    row = \"  \".join(f\"{similarity_matrix[i, j]:.4f}\" if similarity_matrix[i, j] is not None else \"  None\" for j in range(len(words)))\n",
        "    print(f\"{word1[:6]:>6} {row}\")"
      ],
      "metadata": {
        "colab": {
          "base_uri": "https://localhost:8080/"
        },
        "id": "9Xx974N59TJ9",
        "outputId": "448e95ed-9fd1-4212-dff5-69b2115ef090"
      },
      "execution_count": null,
      "outputs": [
        {
          "output_type": "stream",
          "name": "stdout",
          "text": [
            "\n",
            "Вычисление косинусного сходства между словами...\n",
            "\n",
            "Матрица косинусного сходства:\n",
            "      tree   river    book  theate   robot  intern    city   house   music  painti\n",
            "  tree 1.0000  0.2307  0.1231  0.1005  0.1103  0.0511  0.1481  0.2878  0.1001  0.1645\n",
            " river 0.2307  1.0000  0.0720  0.1026  0.0634  0.0828  0.2773  0.2087  0.1171  0.1363\n",
            "  book 0.1231  0.0720  1.0000  0.1224  0.0097  0.1254  0.0444  0.1611  0.1243  0.2174\n",
            "theate 0.1005  0.1026  0.1224  1.0000  0.1253  0.1150  0.2116  0.2415  0.3987  0.1883\n",
            " robot 0.1103  0.0634  0.0097  0.1253  1.0000  0.1371  0.0605  0.1091  0.0224  0.0625\n",
            "intern 0.0511  0.0828  0.1254  0.1150  0.1371  1.0000  0.0484  0.1072  0.2714  0.0442\n",
            "  city 0.1481  0.2773  0.0444  0.2116  0.0605  0.0484  1.0000  0.2373  0.1379  0.1157\n",
            " house 0.2878  0.2087  0.1611  0.2415  0.1091  0.1072  0.2373  1.0000  0.0717  0.2292\n",
            " music 0.1001  0.1171  0.1243  0.3987  0.0224  0.2714  0.1379  0.0717  1.0000  0.2272\n",
            "painti 0.1645  0.1363  0.2174  0.1883  0.0625  0.0442  0.1157  0.2292  0.2272  1.0000\n"
          ]
        }
      ]
    },
    {
      "cell_type": "code",
      "source": [
        "# Вывод наиболее похожих слов\n",
        "print(\"\\nНаиболее похожие слова:\")\n",
        "for word in words:\n",
        "    if word in model:\n",
        "        similar_words = model.most_similar(word, topn=5)\n",
        "        print(f\"Слова, наиболее похожие на '{word}':\")\n",
        "        for similar_word, similarity in similar_words:\n",
        "            print(f\"  {similar_word}: {similarity:.4f}\")\n",
        "    else:\n",
        "        print(f\"Слово '{word}' не найдено в модели!\")"
      ],
      "metadata": {
        "colab": {
          "base_uri": "https://localhost:8080/"
        },
        "id": "4qSqiZJD5d3y",
        "outputId": "79a7bcb7-372e-4756-8b7a-26d5c37e5bbc"
      },
      "execution_count": null,
      "outputs": [
        {
          "output_type": "stream",
          "name": "stdout",
          "text": [
            "\n",
            "Наиболее похожие слова:\n",
            "Слова, наиболее похожие на 'tree':\n",
            "  trees: 0.8293\n",
            "  pine_tree: 0.7622\n",
            "  oak_tree: 0.7319\n",
            "  evergreen_tree: 0.6927\n",
            "  fir_tree: 0.6917\n",
            "Слова, наиболее похожие на 'river':\n",
            "  creek: 0.7994\n",
            "  lake: 0.7920\n",
            "  rivers: 0.7778\n",
            "  riverbank: 0.7284\n",
            "  canal: 0.7222\n",
            "Слова, наиболее похожие на 'book':\n",
            "  tome: 0.7486\n",
            "  books: 0.7379\n",
            "  memoir: 0.7303\n",
            "  paperback_edition: 0.6868\n",
            "  autobiography: 0.6742\n",
            "Слова, наиболее похожие на 'theater':\n",
            "  Theater: 0.7018\n",
            "  Theatre: 0.6768\n",
            "  cinema: 0.6515\n",
            "  repertory_theater: 0.6457\n",
            "  theaters: 0.6415\n",
            "Слова, наиболее похожие на 'robot':\n",
            "  robots: 0.8342\n",
            "  robotic: 0.8093\n",
            "  Robot: 0.6990\n",
            "  humanoid: 0.6655\n",
            "  robotics: 0.6462\n",
            "Слова, наиболее похожие на 'internet':\n",
            "  Internet: 0.8345\n",
            "  online: 0.6505\n",
            "  Visit_OMNOVA_Solutions: 0.6497\n",
            "  via_www.mobilebaybears.com: 0.6478\n",
            "  Earn_Rs.####/day_working: 0.6293\n",
            "Слова, наиболее похожие на 'city':\n",
            "  citys: 0.6804\n",
            "  mayor: 0.6751\n",
            "  town: 0.6724\n",
            "  municipality: 0.6531\n",
            "  municipal: 0.6223\n",
            "Слова, наиболее похожие на 'house':\n",
            "  houses: 0.7072\n",
            "  bungalow: 0.6879\n",
            "  apartment: 0.6629\n",
            "  bedroom: 0.6497\n",
            "  townhouse: 0.6384\n",
            "Слова, наиболее похожие на 'music':\n",
            "  classical_music: 0.7198\n",
            "  jazz: 0.6835\n",
            "  Music: 0.6596\n",
            "  Without_Donny_Kirshner: 0.6416\n",
            "  songs: 0.6396\n",
            "Слова, наиболее похожие на 'painting':\n",
            "  paintings: 0.7395\n",
            "  watercolor: 0.7291\n",
            "  Painting: 0.7174\n",
            "  painter: 0.7038\n",
            "  painters: 0.7034\n"
          ]
        }
      ]
    },
    {
      "cell_type": "code",
      "source": [],
      "metadata": {
        "id": "JlM0yQ5L7stO"
      },
      "execution_count": null,
      "outputs": []
    }
  ]
}